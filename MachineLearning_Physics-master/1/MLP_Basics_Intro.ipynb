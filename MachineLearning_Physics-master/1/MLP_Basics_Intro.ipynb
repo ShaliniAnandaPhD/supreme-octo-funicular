{
  "nbformat": 4,
  "nbformat_minor": 0,
  "metadata": {
    "colab": {
      "name": "MLP_lec1_Basics_Regression.ipynb",
      "provenance": [],
      "collapsed_sections": [
        "1gyfloy9BVjG"
      ],
      "include_colab_link": true
    },
    "kernelspec": {
      "display_name": "Python 3",
      "language": "python",
      "name": "python3"
    },
    "widgets": {
      "application/vnd.jupyter.widget-state+json": {
        "bcdf369f46714983b6fe0cc740aebfa1": {
          "model_module": "@jupyter-widgets/controls",
          "model_name": "VBoxModel",
          "state": {
            "_view_name": "VBoxView",
            "_dom_classes": [
              "widget-interact"
            ],
            "_model_name": "VBoxModel",
            "_view_module": "@jupyter-widgets/controls",
            "_model_module_version": "1.5.0",
            "_view_count": null,
            "_view_module_version": "1.5.0",
            "box_style": "",
            "layout": "IPY_MODEL_5b494c9b07b649e2b136e3af3880b304",
            "_model_module": "@jupyter-widgets/controls",
            "children": [
              "IPY_MODEL_0b0a6ce9a36343d2a19fc57bc5c99e17",
              "IPY_MODEL_7351c25c0c1c462aa58ecf55f28d32cb"
            ]
          }
        },
        "5b494c9b07b649e2b136e3af3880b304": {
          "model_module": "@jupyter-widgets/base",
          "model_name": "LayoutModel",
          "state": {
            "_view_name": "LayoutView",
            "grid_template_rows": null,
            "right": null,
            "justify_content": null,
            "_view_module": "@jupyter-widgets/base",
            "overflow": null,
            "_model_module_version": "1.2.0",
            "_view_count": null,
            "flex_flow": null,
            "width": null,
            "min_width": null,
            "border": null,
            "align_items": null,
            "bottom": null,
            "_model_module": "@jupyter-widgets/base",
            "top": null,
            "grid_column": null,
            "overflow_y": null,
            "overflow_x": null,
            "grid_auto_flow": null,
            "grid_area": null,
            "grid_template_columns": null,
            "flex": null,
            "_model_name": "LayoutModel",
            "justify_items": null,
            "grid_row": null,
            "max_height": null,
            "align_content": null,
            "visibility": null,
            "align_self": null,
            "height": null,
            "min_height": null,
            "padding": null,
            "grid_auto_rows": null,
            "grid_gap": null,
            "max_width": null,
            "order": null,
            "_view_module_version": "1.2.0",
            "grid_template_areas": null,
            "object_position": null,
            "object_fit": null,
            "grid_auto_columns": null,
            "margin": null,
            "display": null,
            "left": null
          }
        },
        "0b0a6ce9a36343d2a19fc57bc5c99e17": {
          "model_module": "@jupyter-widgets/controls",
          "model_name": "FloatSliderModel",
          "state": {
            "_view_name": "FloatSliderView",
            "style": "IPY_MODEL_afc50c362954488898d6fdd42c9f1715",
            "_dom_classes": [],
            "description": "w",
            "step": 0.0001,
            "_model_name": "FloatSliderModel",
            "orientation": "horizontal",
            "max": 0.05,
            "_view_module": "@jupyter-widgets/controls",
            "_model_module_version": "1.5.0",
            "value": 0.0159,
            "_view_count": null,
            "disabled": false,
            "_view_module_version": "1.5.0",
            "min": 0,
            "continuous_update": true,
            "readout_format": ".2f",
            "description_tooltip": null,
            "readout": true,
            "_model_module": "@jupyter-widgets/controls",
            "layout": "IPY_MODEL_fffb58e86bd744f6ad33a4c0aeeae344"
          }
        },
        "7351c25c0c1c462aa58ecf55f28d32cb": {
          "model_module": "@jupyter-widgets/output",
          "model_name": "OutputModel",
          "state": {
            "_view_name": "OutputView",
            "msg_id": "",
            "_dom_classes": [],
            "_model_name": "OutputModel",
            "outputs": [
              {
                "output_type": "display_data",
                "metadata": {
                  "tags": []
                },
                "image/png": "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\n",
                "text/plain": "<Figure size 576x288 with 1 Axes>"
              }
            ],
            "_view_module": "@jupyter-widgets/output",
            "_model_module_version": "1.0.0",
            "_view_count": null,
            "_view_module_version": "1.0.0",
            "layout": "IPY_MODEL_871bf11c5ad74104aea567d4a24057c0",
            "_model_module": "@jupyter-widgets/output"
          }
        },
        "afc50c362954488898d6fdd42c9f1715": {
          "model_module": "@jupyter-widgets/controls",
          "model_name": "SliderStyleModel",
          "state": {
            "_view_name": "StyleView",
            "handle_color": null,
            "_model_name": "SliderStyleModel",
            "description_width": "",
            "_view_module": "@jupyter-widgets/base",
            "_model_module_version": "1.5.0",
            "_view_count": null,
            "_view_module_version": "1.2.0",
            "_model_module": "@jupyter-widgets/controls"
          }
        },
        "fffb58e86bd744f6ad33a4c0aeeae344": {
          "model_module": "@jupyter-widgets/base",
          "model_name": "LayoutModel",
          "state": {
            "_view_name": "LayoutView",
            "grid_template_rows": null,
            "right": null,
            "justify_content": null,
            "_view_module": "@jupyter-widgets/base",
            "overflow": null,
            "_model_module_version": "1.2.0",
            "_view_count": null,
            "flex_flow": null,
            "width": null,
            "min_width": null,
            "border": null,
            "align_items": null,
            "bottom": null,
            "_model_module": "@jupyter-widgets/base",
            "top": null,
            "grid_column": null,
            "overflow_y": null,
            "overflow_x": null,
            "grid_auto_flow": null,
            "grid_area": null,
            "grid_template_columns": null,
            "flex": null,
            "_model_name": "LayoutModel",
            "justify_items": null,
            "grid_row": null,
            "max_height": null,
            "align_content": null,
            "visibility": null,
            "align_self": null,
            "height": null,
            "min_height": null,
            "padding": null,
            "grid_auto_rows": null,
            "grid_gap": null,
            "max_width": null,
            "order": null,
            "_view_module_version": "1.2.0",
            "grid_template_areas": null,
            "object_position": null,
            "object_fit": null,
            "grid_auto_columns": null,
            "margin": null,
            "display": null,
            "left": null
          }
        },
        "871bf11c5ad74104aea567d4a24057c0": {
          "model_module": "@jupyter-widgets/base",
          "model_name": "LayoutModel",
          "state": {
            "_view_name": "LayoutView",
            "grid_template_rows": null,
            "right": null,
            "justify_content": null,
            "_view_module": "@jupyter-widgets/base",
            "overflow": null,
            "_model_module_version": "1.2.0",
            "_view_count": null,
            "flex_flow": null,
            "width": null,
            "min_width": null,
            "border": null,
            "align_items": null,
            "bottom": null,
            "_model_module": "@jupyter-widgets/base",
            "top": null,
            "grid_column": null,
            "overflow_y": null,
            "overflow_x": null,
            "grid_auto_flow": null,
            "grid_area": null,
            "grid_template_columns": null,
            "flex": null,
            "_model_name": "LayoutModel",
            "justify_items": null,
            "grid_row": null,
            "max_height": null,
            "align_content": null,
            "visibility": null,
            "align_self": null,
            "height": null,
            "min_height": null,
            "padding": null,
            "grid_auto_rows": null,
            "grid_gap": null,
            "max_width": null,
            "order": null,
            "_view_module_version": "1.2.0",
            "grid_template_areas": null,
            "object_position": null,
            "object_fit": null,
            "grid_auto_columns": null,
            "margin": null,
            "display": null,
            "left": null
          }
        },
        "f9e55f9a634c4d55bb6b63d64f3c75ed": {
          "model_module": "@jupyter-widgets/controls",
          "model_name": "VBoxModel",
          "state": {
            "_view_name": "VBoxView",
            "_dom_classes": [
              "widget-interact"
            ],
            "_model_name": "VBoxModel",
            "_view_module": "@jupyter-widgets/controls",
            "_model_module_version": "1.5.0",
            "_view_count": null,
            "_view_module_version": "1.5.0",
            "box_style": "",
            "layout": "IPY_MODEL_4e04b3cb8ea34824993e015b7ad98485",
            "_model_module": "@jupyter-widgets/controls",
            "children": [
              "IPY_MODEL_dc0dad4ae39c46759ec102f2e6ac7d89",
              "IPY_MODEL_a7d2c014387842f8b999be13b68cf3c7",
              "IPY_MODEL_7570447d16f24557a76390627657ec69"
            ]
          }
        },
        "4e04b3cb8ea34824993e015b7ad98485": {
          "model_module": "@jupyter-widgets/base",
          "model_name": "LayoutModel",
          "state": {
            "_view_name": "LayoutView",
            "grid_template_rows": null,
            "right": null,
            "justify_content": null,
            "_view_module": "@jupyter-widgets/base",
            "overflow": null,
            "_model_module_version": "1.2.0",
            "_view_count": null,
            "flex_flow": null,
            "width": null,
            "min_width": null,
            "border": null,
            "align_items": null,
            "bottom": null,
            "_model_module": "@jupyter-widgets/base",
            "top": null,
            "grid_column": null,
            "overflow_y": null,
            "overflow_x": null,
            "grid_auto_flow": null,
            "grid_area": null,
            "grid_template_columns": null,
            "flex": null,
            "_model_name": "LayoutModel",
            "justify_items": null,
            "grid_row": null,
            "max_height": null,
            "align_content": null,
            "visibility": null,
            "align_self": null,
            "height": null,
            "min_height": null,
            "padding": null,
            "grid_auto_rows": null,
            "grid_gap": null,
            "max_width": null,
            "order": null,
            "_view_module_version": "1.2.0",
            "grid_template_areas": null,
            "object_position": null,
            "object_fit": null,
            "grid_auto_columns": null,
            "margin": null,
            "display": null,
            "left": null
          }
        },
        "dc0dad4ae39c46759ec102f2e6ac7d89": {
          "model_module": "@jupyter-widgets/controls",
          "model_name": "FloatSliderModel",
          "state": {
            "_view_name": "FloatSliderView",
            "style": "IPY_MODEL_8b76d92df2e64b7185bdf4df820fb0cd",
            "_dom_classes": [],
            "description": "w",
            "step": 0.0001,
            "_model_name": "FloatSliderModel",
            "orientation": "horizontal",
            "max": 0.05,
            "_view_module": "@jupyter-widgets/controls",
            "_model_module_version": "1.5.0",
            "value": 0,
            "_view_count": null,
            "disabled": false,
            "_view_module_version": "1.5.0",
            "min": 0,
            "continuous_update": true,
            "readout_format": ".2f",
            "description_tooltip": null,
            "readout": true,
            "_model_module": "@jupyter-widgets/controls",
            "layout": "IPY_MODEL_be6723e8fd734275a6589e27c82f38e2"
          }
        },
        "a7d2c014387842f8b999be13b68cf3c7": {
          "model_module": "@jupyter-widgets/controls",
          "model_name": "FloatSliderModel",
          "state": {
            "_view_name": "FloatSliderView",
            "style": "IPY_MODEL_e63f29b66b3d48639888621dc67d9b0c",
            "_dom_classes": [],
            "description": "b",
            "step": 0.0001,
            "_model_name": "FloatSliderModel",
            "orientation": "horizontal",
            "max": 1,
            "_view_module": "@jupyter-widgets/controls",
            "_model_module_version": "1.5.0",
            "value": 0,
            "_view_count": null,
            "disabled": false,
            "_view_module_version": "1.5.0",
            "min": -1,
            "continuous_update": true,
            "readout_format": ".2f",
            "description_tooltip": null,
            "readout": true,
            "_model_module": "@jupyter-widgets/controls",
            "layout": "IPY_MODEL_b71a51762de74eb38dbc3736a92ed4fe"
          }
        },
        "7570447d16f24557a76390627657ec69": {
          "model_module": "@jupyter-widgets/output",
          "model_name": "OutputModel",
          "state": {
            "_view_name": "OutputView",
            "msg_id": "",
            "_dom_classes": [],
            "_model_name": "OutputModel",
            "outputs": [
              {
                "output_type": "display_data",
                "metadata": {
                  "tags": []
                },
                "image/png": "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\n",
                "text/plain": "<Figure size 576x288 with 1 Axes>"
              }
            ],
            "_view_module": "@jupyter-widgets/output",
            "_model_module_version": "1.0.0",
            "_view_count": null,
            "_view_module_version": "1.0.0",
            "layout": "IPY_MODEL_300e9e09d1454856a714fc016503481c",
            "_model_module": "@jupyter-widgets/output"
          }
        },
        "8b76d92df2e64b7185bdf4df820fb0cd": {
          "model_module": "@jupyter-widgets/controls",
          "model_name": "SliderStyleModel",
          "state": {
            "_view_name": "StyleView",
            "handle_color": null,
            "_model_name": "SliderStyleModel",
            "description_width": "",
            "_view_module": "@jupyter-widgets/base",
            "_model_module_version": "1.5.0",
            "_view_count": null,
            "_view_module_version": "1.2.0",
            "_model_module": "@jupyter-widgets/controls"
          }
        },
        "be6723e8fd734275a6589e27c82f38e2": {
          "model_module": "@jupyter-widgets/base",
          "model_name": "LayoutModel",
          "state": {
            "_view_name": "LayoutView",
            "grid_template_rows": null,
            "right": null,
            "justify_content": null,
            "_view_module": "@jupyter-widgets/base",
            "overflow": null,
            "_model_module_version": "1.2.0",
            "_view_count": null,
            "flex_flow": null,
            "width": null,
            "min_width": null,
            "border": null,
            "align_items": null,
            "bottom": null,
            "_model_module": "@jupyter-widgets/base",
            "top": null,
            "grid_column": null,
            "overflow_y": null,
            "overflow_x": null,
            "grid_auto_flow": null,
            "grid_area": null,
            "grid_template_columns": null,
            "flex": null,
            "_model_name": "LayoutModel",
            "justify_items": null,
            "grid_row": null,
            "max_height": null,
            "align_content": null,
            "visibility": null,
            "align_self": null,
            "height": null,
            "min_height": null,
            "padding": null,
            "grid_auto_rows": null,
            "grid_gap": null,
            "max_width": null,
            "order": null,
            "_view_module_version": "1.2.0",
            "grid_template_areas": null,
            "object_position": null,
            "object_fit": null,
            "grid_auto_columns": null,
            "margin": null,
            "display": null,
            "left": null
          }
        },
        "e63f29b66b3d48639888621dc67d9b0c": {
          "model_module": "@jupyter-widgets/controls",
          "model_name": "SliderStyleModel",
          "state": {
            "_view_name": "StyleView",
            "handle_color": null,
            "_model_name": "SliderStyleModel",
            "description_width": "",
            "_view_module": "@jupyter-widgets/base",
            "_model_module_version": "1.5.0",
            "_view_count": null,
            "_view_module_version": "1.2.0",
            "_model_module": "@jupyter-widgets/controls"
          }
        },
        "b71a51762de74eb38dbc3736a92ed4fe": {
          "model_module": "@jupyter-widgets/base",
          "model_name": "LayoutModel",
          "state": {
            "_view_name": "LayoutView",
            "grid_template_rows": null,
            "right": null,
            "justify_content": null,
            "_view_module": "@jupyter-widgets/base",
            "overflow": null,
            "_model_module_version": "1.2.0",
            "_view_count": null,
            "flex_flow": null,
            "width": null,
            "min_width": null,
            "border": null,
            "align_items": null,
            "bottom": null,
            "_model_module": "@jupyter-widgets/base",
            "top": null,
            "grid_column": null,
            "overflow_y": null,
            "overflow_x": null,
            "grid_auto_flow": null,
            "grid_area": null,
            "grid_template_columns": null,
            "flex": null,
            "_model_name": "LayoutModel",
            "justify_items": null,
            "grid_row": null,
            "max_height": null,
            "align_content": null,
            "visibility": null,
            "align_self": null,
            "height": null,
            "min_height": null,
            "padding": null,
            "grid_auto_rows": null,
            "grid_gap": null,
            "max_width": null,
            "order": null,
            "_view_module_version": "1.2.0",
            "grid_template_areas": null,
            "object_position": null,
            "object_fit": null,
            "grid_auto_columns": null,
            "margin": null,
            "display": null,
            "left": null
          }
        },
        "300e9e09d1454856a714fc016503481c": {
          "model_module": "@jupyter-widgets/base",
          "model_name": "LayoutModel",
          "state": {
            "_view_name": "LayoutView",
            "grid_template_rows": null,
            "right": null,
            "justify_content": null,
            "_view_module": "@jupyter-widgets/base",
            "overflow": null,
            "_model_module_version": "1.2.0",
            "_view_count": null,
            "flex_flow": null,
            "width": null,
            "min_width": null,
            "border": null,
            "align_items": null,
            "bottom": null,
            "_model_module": "@jupyter-widgets/base",
            "top": null,
            "grid_column": null,
            "overflow_y": null,
            "overflow_x": null,
            "grid_auto_flow": null,
            "grid_area": null,
            "grid_template_columns": null,
            "flex": null,
            "_model_name": "LayoutModel",
            "justify_items": null,
            "grid_row": null,
            "max_height": null,
            "align_content": null,
            "visibility": null,
            "align_self": null,
            "height": null,
            "min_height": null,
            "padding": null,
            "grid_auto_rows": null,
            "grid_gap": null,
            "max_width": null,
            "order": null,
            "_view_module_version": "1.2.0",
            "grid_template_areas": null,
            "object_position": null,
            "object_fit": null,
            "grid_auto_columns": null,
            "margin": null,
            "display": null,
            "left": null
          }
        }
      }
    }
  },
  "cells": [
    {
      "cell_type": "markdown",
      "metadata": {
        "id": "view-in-github",
        "colab_type": "text"
      },
      "source": [
        "<a href=\"https://colab.research.google.com/github/sraeisi/MachineLearning_Physics/blob/master/1/MLP_Basics_Intro.ipynb\" target=\"_parent\"><img src=\"https://colab.research.google.com/assets/colab-badge.svg\" alt=\"Open In Colab\"/></a>"
      ]
    },
    {
      "cell_type": "markdown",
      "metadata": {
        "id": "9LF5jKQTBViw"
      },
      "source": [
        "Lecture 1: What is Machine Learning and how is it related to Physics? \n",
        "======"
      ]
    },
    {
      "cell_type": "markdown",
      "metadata": {
        "id": "1gyfloy9BVjG"
      },
      "source": [
        "## Preliminaries"
      ]
    },
    {
      "cell_type": "code",
      "metadata": {
        "id": "HVU71w5qBVjP"
      },
      "source": [
        "import numpy as np\n",
        "import pandas as pd\n",
        "import matplotlib.pyplot as plt\n",
        "plt.style.use('seaborn-talk')\n",
        "plt.rc('figure', figsize=(8,4) )         # Image size\n",
        "\n",
        "import seaborn as sns\n"
      ],
      "execution_count": 1,
      "outputs": []
    },
    {
      "cell_type": "markdown",
      "metadata": {
        "id": "Q6JfuQgRBVkE"
      },
      "source": [
        "# Simple Regression problem\n",
        "What do you think \"Machine Learning (ML)\" is?\n",
        "\n",
        "\n",
        "Consider the spring example in the notes. \n",
        "Let's see how the actual data would look like. \n"
      ]
    },
    {
      "cell_type": "code",
      "metadata": {
        "id": "o5lst5OZBVoW",
        "colab": {
          "base_uri": "https://localhost:8080/",
          "height": 235
        },
        "outputId": "b1ca8bbb-6b1b-4a20-fdb5-1da912749af3"
      },
      "source": [
        "'''This data is taken from lab report of students in Phys_Lab 3.'''\n",
        "\n",
        "import io, requests\n",
        "\n",
        "url = 'https://raw.githubusercontent.com/sraeisi/MachineLearning_Physics/master/Data/Spring.csv'\n",
        "s = requests.get(url).content\n",
        "exp_data = pd.read_csv(io.StringIO(s.decode('utf-8')))\n",
        "\n",
        "\n",
        "exp_data"
      ],
      "execution_count": null,
      "outputs": [
        {
          "output_type": "execute_result",
          "data": {
            "text/html": [
              "<div>\n",
              "<style scoped>\n",
              "    .dataframe tbody tr th:only-of-type {\n",
              "        vertical-align: middle;\n",
              "    }\n",
              "\n",
              "    .dataframe tbody tr th {\n",
              "        vertical-align: top;\n",
              "    }\n",
              "\n",
              "    .dataframe thead th {\n",
              "        text-align: right;\n",
              "    }\n",
              "</style>\n",
              "<table border=\"1\" class=\"dataframe\">\n",
              "  <thead>\n",
              "    <tr style=\"text-align: right;\">\n",
              "      <th></th>\n",
              "      <th>Displacement</th>\n",
              "      <th>Force</th>\n",
              "    </tr>\n",
              "  </thead>\n",
              "  <tbody>\n",
              "    <tr>\n",
              "      <th>0</th>\n",
              "      <td>11.5</td>\n",
              "      <td>0.0</td>\n",
              "    </tr>\n",
              "    <tr>\n",
              "      <th>1</th>\n",
              "      <td>14.7</td>\n",
              "      <td>0.1</td>\n",
              "    </tr>\n",
              "    <tr>\n",
              "      <th>2</th>\n",
              "      <td>18.0</td>\n",
              "      <td>0.2</td>\n",
              "    </tr>\n",
              "    <tr>\n",
              "      <th>3</th>\n",
              "      <td>21.3</td>\n",
              "      <td>0.3</td>\n",
              "    </tr>\n",
              "    <tr>\n",
              "      <th>4</th>\n",
              "      <td>24.5</td>\n",
              "      <td>0.4</td>\n",
              "    </tr>\n",
              "    <tr>\n",
              "      <th>5</th>\n",
              "      <td>27.6</td>\n",
              "      <td>0.5</td>\n",
              "    </tr>\n",
              "  </tbody>\n",
              "</table>\n",
              "</div>"
            ],
            "text/plain": [
              "   Displacement  Force\n",
              "0          11.5    0.0\n",
              "1          14.7    0.1\n",
              "2          18.0    0.2\n",
              "3          21.3    0.3\n",
              "4          24.5    0.4\n",
              "5          27.6    0.5"
            ]
          },
          "metadata": {
            "tags": []
          },
          "execution_count": 3
        }
      ]
    },
    {
      "cell_type": "code",
      "metadata": {
        "colab": {
          "base_uri": "https://localhost:8080/",
          "height": 309
        },
        "id": "TEQaRcnWFRFI",
        "outputId": "a84b2c3f-36dc-407b-fc56-eff8a9188702"
      },
      "source": [
        "sns.scatterplot(data=exp_data, x='Displacement', y='Force')"
      ],
      "execution_count": null,
      "outputs": [
        {
          "output_type": "execute_result",
          "data": {
            "text/plain": [
              "<matplotlib.axes._subplots.AxesSubplot at 0x7f07233646a0>"
            ]
          },
          "metadata": {
            "tags": []
          },
          "execution_count": 4
        },
        {
          "output_type": "display_data",
          "data": {
            "image/png": "[encoded data removed]",
            "text/plain": [
              "<Figure size 576x288 with 1 Axes>"
            ]
          },
          "metadata": {
            "tags": [],
            "needs_background": "light"
          }
        }
      ]
    },
    {
      "cell_type": "code",
      "metadata": {
        "id": "nezrGlCTG0oA"
      },
      "source": [
        "## Build a simple model\r\n",
        "\r\n",
        "def model(displacement):\r\n",
        "  ## design your model here\r\n",
        "  f= .01*displacement + .01*displacement**2\r\n",
        "  return f"
      ],
      "execution_count": null,
      "outputs": []
    },
    {
      "cell_type": "code",
      "metadata": {
        "colab": {
          "base_uri": "https://localhost:8080/",
          "height": 235
        },
        "id": "gSeLN4pmIcUm",
        "outputId": "02153761-e4a5-41d0-d883-8bd03fc3e775"
      },
      "source": [
        "exp_data['Model_Prediction'] = exp_data.Displacement.apply(model)\r\n",
        "exp_data"
      ],
      "execution_count": null,
      "outputs": [
        {
          "output_type": "execute_result",
          "data": {
            "text/html": [
              "<div>\n",
              "<style scoped>\n",
              "    .dataframe tbody tr th:only-of-type {\n",
              "        vertical-align: middle;\n",
              "    }\n",
              "\n",
              "    .dataframe tbody tr th {\n",
              "        vertical-align: top;\n",
              "    }\n",
              "\n",
              "    .dataframe thead th {\n",
              "        text-align: right;\n",
              "    }\n",
              "</style>\n",
              "<table border=\"1\" class=\"dataframe\">\n",
              "  <thead>\n",
              "    <tr style=\"text-align: right;\">\n",
              "      <th></th>\n",
              "      <th>Displacement</th>\n",
              "      <th>Force</th>\n",
              "      <th>Model_Prediction</th>\n",
              "    </tr>\n",
              "  </thead>\n",
              "  <tbody>\n",
              "    <tr>\n",
              "      <th>0</th>\n",
              "      <td>11.5</td>\n",
              "      <td>0.0</td>\n",
              "      <td>1.4375</td>\n",
              "    </tr>\n",
              "    <tr>\n",
              "      <th>1</th>\n",
              "      <td>14.7</td>\n",
              "      <td>0.1</td>\n",
              "      <td>2.3079</td>\n",
              "    </tr>\n",
              "    <tr>\n",
              "      <th>2</th>\n",
              "      <td>18.0</td>\n",
              "      <td>0.2</td>\n",
              "      <td>3.4200</td>\n",
              "    </tr>\n",
              "    <tr>\n",
              "      <th>3</th>\n",
              "      <td>21.3</td>\n",
              "      <td>0.3</td>\n",
              "      <td>4.7499</td>\n",
              "    </tr>\n",
              "    <tr>\n",
              "      <th>4</th>\n",
              "      <td>24.5</td>\n",
              "      <td>0.4</td>\n",
              "      <td>6.2475</td>\n",
              "    </tr>\n",
              "    <tr>\n",
              "      <th>5</th>\n",
              "      <td>27.6</td>\n",
              "      <td>0.5</td>\n",
              "      <td>7.8936</td>\n",
              "    </tr>\n",
              "  </tbody>\n",
              "</table>\n",
              "</div>"
            ],
            "text/plain": [
              "   Displacement  Force  Model_Prediction\n",
              "0          11.5    0.0            1.4375\n",
              "1          14.7    0.1            2.3079\n",
              "2          18.0    0.2            3.4200\n",
              "3          21.3    0.3            4.7499\n",
              "4          24.5    0.4            6.2475\n",
              "5          27.6    0.5            7.8936"
            ]
          },
          "metadata": {
            "tags": []
          },
          "execution_count": 9
        }
      ]
    },
    {
      "cell_type": "code",
      "metadata": {
        "colab": {
          "base_uri": "https://localhost:8080/",
          "height": 310
        },
        "id": "luw80rJpHKOU",
        "outputId": "a135d80c-94f2-404f-e725-7c8cdfd0841f"
      },
      "source": [
        "fig = plt.figure()\r\n",
        "ax = fig.add_subplot(111, xlabel='Displacement', ylabel='Force', title='Force vs Displacement')\r\n",
        "\r\n",
        "plt.scatter(exp_data.Displacement, exp_data.Force, label='Real data')\r\n",
        "plt.plot(exp_data.Displacement, exp_data.Model_Prediction, label='Prediction', c='r')\r\n",
        "plt.legend(loc=0)\r\n",
        "plt.show()\r\n"
      ],
      "execution_count": null,
      "outputs": [
        {
          "output_type": "display_data",
          "data": {
            "image/png": "[encoded data removed]",
            "text/plain": [
              "<Figure size 576x288 with 1 Axes>"
            ]
          },
          "metadata": {
            "tags": [],
            "needs_background": "light"
          }
        }
      ]
    },
    {
      "cell_type": "code",
      "metadata": {
        "id": "zKEgg_kbJym8",
        "colab": {
          "base_uri": "https://localhost:8080/"
        },
        "outputId": "4abf552e-b037-4767-de57-7cbc79ca7c92"
      },
      "source": [
        "## Calculate the distance between the prediction and the real data  => Loss\r\n",
        "\r\n",
        "def dist(Y, Y_pred):\r\n",
        "\r\n",
        "  d = np.sum(np.abs( Y - Y_pred ))  ## replace this with what you think is good for the loss\r\n",
        "\r\n",
        "  return d \r\n",
        "\r\n",
        "## now calculate the distance between your prediction and the actual force. \r\n",
        "dist( exp_data.Force , exp_data.Model_Prediction )  "
      ],
      "execution_count": null,
      "outputs": [
        {
          "output_type": "execute_result",
          "data": {
            "text/plain": [
              "24.556400000000004"
            ]
          },
          "metadata": {
            "tags": []
          },
          "execution_count": 11
        }
      ]
    },
    {
      "cell_type": "markdown",
      "metadata": {
        "id": "s8RQxgVGLSvy"
      },
      "source": [
        "## Finding a better model\r\n",
        "\r\n",
        "Try to play with your model to improve it. \r\n",
        "\r\n",
        "What does it mean to improve the model?\r\n",
        "\r\n"
      ]
    },
    {
      "cell_type": "code",
      "metadata": {
        "id": "C6CN-qX9Lh_c"
      },
      "source": [
        "'''\r\n",
        "Parametric Model:\r\n",
        "Here I make a model that has some parameters that we can play with. \r\n",
        "'''\r\n",
        "\r\n",
        "def model(displacement, w=0):\r\n",
        "  ## Let's make a linear model with 0 interception. \r\n",
        "  f = w * displacement \r\n",
        "\r\n",
        "  return f\r\n"
      ],
      "execution_count": null,
      "outputs": []
    },
    {
      "cell_type": "code",
      "metadata": {
        "colab": {
          "base_uri": "https://localhost:8080/"
        },
        "id": "MvkPAjR8MbaH",
        "outputId": "1c150295-6baa-4dc5-f06b-b6ab0bdfb816"
      },
      "source": [
        "## Let's see what the predictions are:\r\n",
        "[model(x, .1) for x in exp_data.Displacement]"
      ],
      "execution_count": null,
      "outputs": [
        {
          "output_type": "execute_result",
          "data": {
            "text/plain": [
              "[1.1500000000000001, 1.47, 1.8, 2.1300000000000003, 2.45, 2.7600000000000002]"
            ]
          },
          "metadata": {
            "tags": []
          },
          "execution_count": 16
        }
      ]
    },
    {
      "cell_type": "code",
      "metadata": {
        "colab": {
          "base_uri": "https://localhost:8080/",
          "height": 327
        },
        "id": "baGtia4sMGIY",
        "outputId": "911d0064-3622-4c56-dc0f-594e310ad825"
      },
      "source": [
        "exp_data['Model_Prediction'] = exp_data.Displacement.apply(lambda x: model(x, .01))\r\n",
        "exp_data\r\n",
        "\r\n",
        "fig = plt.figure()\r\n",
        "ax = fig.add_subplot(111, xlabel='Displacement', ylabel='Force', title='Force vs Displacement')\r\n",
        "\r\n",
        "plt.scatter(exp_data.Displacement, exp_data.Force, label='Real data')\r\n",
        "plt.plot(exp_data.Displacement, exp_data.Model_Prediction, label='Prediction',c='r')\r\n",
        "plt.legend(loc=0)\r\n",
        "plt.show()\r\n",
        "print(f'The distance between prediction and real data is {dist( exp_data.Force , exp_data.Model_Prediction )   }.')"
      ],
      "execution_count": null,
      "outputs": [
        {
          "output_type": "display_data",
          "data": {
            "image/png": "[encoded data removed]",
            "text/plain": [
              "<Figure size 576x288 with 1 Axes>"
            ]
          },
          "metadata": {
            "tags": [],
            "needs_background": "light"
          }
        },
        {
          "output_type": "stream",
          "text": [
            "The distance between prediction and real data is 0.6479999999999999.\n"
          ],
          "name": "stdout"
        }
      ]
    },
    {
      "cell_type": "code",
      "metadata": {
        "colab": {
          "base_uri": "https://localhost:8080/",
          "height": 359,
          "referenced_widgets": [
            "bcdf369f46714983b6fe0cc740aebfa1",
            "5b494c9b07b649e2b136e3af3880b304",
            "0b0a6ce9a36343d2a19fc57bc5c99e17",
            "7351c25c0c1c462aa58ecf55f28d32cb",
            "afc50c362954488898d6fdd42c9f1715",
            "fffb58e86bd744f6ad33a4c0aeeae344",
            "871bf11c5ad74104aea567d4a24057c0"
          ]
        },
        "id": "2m1jPUjjPswQ",
        "outputId": "fabc8ef9-29dc-4f6b-d3c6-998101cf0a9b"
      },
      "source": [
        "from ipywidgets import interact, fixed, FloatSlider\r\n",
        "\r\n",
        "# @interact\r\n",
        "def plot_both(w):\r\n",
        "  exp_data['Model_Prediction'] = exp_data.Displacement.apply(lambda x: model(x, w))\r\n",
        "  \r\n",
        "  fig = plt.figure()\r\n",
        "  ax = fig.add_subplot(111, xlabel='Displacement', ylabel='Force', title='Force vs Displacement')\r\n",
        "\r\n",
        "  plt.scatter(exp_data.Displacement, exp_data.Force, label='Real data')\r\n",
        "  plt.plot(exp_data.Displacement, exp_data.Model_Prediction, label='Prediction', c='r')\r\n",
        "  # plt.ylim(-.1,.7)\r\n",
        "  plt.legend(loc=0)\r\n",
        "  # plt.show()\r\n",
        "  plt.close(fig)\r\n",
        "  return fig\r\n",
        "\r\n",
        "interact(plot_both, w=FloatSlider(min=0.0, max=.05, step=.0001, value=0))"
      ],
      "execution_count": null,
      "outputs": [
        {
          "output_type": "display_data",
          "data": {
            "application/vnd.jupyter.widget-view+json": {
              "model_id": "bcdf369f46714983b6fe0cc740aebfa1",
              "version_minor": 0,
              "version_major": 2
            },
            "text/plain": [
              "interactive(children=(FloatSlider(value=0.0, description='w', max=0.05, step=0.0001), Output()), _dom_classes=…"
            ]
          },
          "metadata": {
            "tags": []
          }
        },
        {
          "output_type": "execute_result",
          "data": {
            "text/plain": [
              "<function __main__.plot_both>"
            ]
          },
          "metadata": {
            "tags": []
          },
          "execution_count": 19
        }
      ]
    },
    {
      "cell_type": "markdown",
      "metadata": {
        "id": "V4Opf9aRBVor"
      },
      "source": [
        "### Learning\n",
        "\n",
        "Find the best model that you can!\n",
        "\n",
        "Explain the process!\n"
      ]
    },
    {
      "cell_type": "code",
      "metadata": {
        "id": "pHJgTkgbythK",
        "colab": {
          "base_uri": "https://localhost:8080/",
          "height": 308
        },
        "outputId": "61a4de48-3230-4460-dd1a-0b3c14526e06"
      },
      "source": [
        "%%time\r\n",
        "## Plot distance vs param\r\n",
        "dparam = .001\r\n",
        "dist_list = [dist( exp_data.Force , model(exp_data.Displacement , p) )  for p in np.arange(-1,1,dparam)  ]\r\n",
        "plt.plot(np.arange(-1,1,dparam), dist_list )"
      ],
      "execution_count": null,
      "outputs": [
        {
          "output_type": "stream",
          "text": [
            "CPU times: user 1.72 s, sys: 0 ns, total: 1.72 s\n",
            "Wall time: 1.78 s\n"
          ],
          "name": "stdout"
        },
        {
          "output_type": "display_data",
          "data": {
            "image/png": "[encoded data removed]",
            "text/plain": [
              "<Figure size 576x288 with 1 Axes>"
            ]
          },
          "metadata": {
            "tags": [],
            "needs_background": "light"
          }
        }
      ]
    },
    {
      "cell_type": "code",
      "metadata": {
        "colab": {
          "base_uri": "https://localhost:8080/"
        },
        "id": "cKSjybkgBWk5",
        "outputId": "3d22c3f0-628e-4fa0-abb8-42bd1c6536f9"
      },
      "source": [
        "print(f'The optimal value for w seems to be around {np.arange(-1,1,.0001)[np.argmin(dist_list)]}.\\n')\r\n",
        "print(f'For this value of w, the loss is {dist( exp_data.Force , model(exp_data.Displacement , 0.0141) )}.' )\r\n"
      ],
      "execution_count": null,
      "outputs": [
        {
          "output_type": "stream",
          "text": [
            "The optimal value for w seems to be around -0.8986000000000112.\n",
            "\n",
            "For this value of w, the loss is 0.48894.\n"
          ],
          "name": "stdout"
        }
      ]
    },
    {
      "cell_type": "code",
      "metadata": {
        "id": "GvgIvSwhOhkx"
      },
      "source": [
        "### Two parameter model:\r\n",
        "\r\n",
        "'''\r\n",
        "Parametric Model:\r\n",
        "Here I make a model that has some parameters that we can play with. \r\n",
        "'''\r\n",
        "\r\n",
        "def model(displacement, w=0, b=0):\r\n",
        "  ## Let's make a linear model with 0 interception. \r\n",
        "  f = w * displacement + b\r\n",
        "\r\n",
        "  return f\r\n"
      ],
      "execution_count": null,
      "outputs": []
    },
    {
      "cell_type": "code",
      "metadata": {
        "colab": {
          "base_uri": "https://localhost:8080/"
        },
        "id": "M1fCR6tPOhk_",
        "outputId": "0d937e1c-e39c-4a0c-e2ae-d8a5a6db2bae"
      },
      "source": [
        "## Let's see what the predictions are:\r\n",
        "[model(x, .1,.1) for x in exp_data.Displacement]"
      ],
      "execution_count": null,
      "outputs": [
        {
          "output_type": "execute_result",
          "data": {
            "text/plain": [
              "[1.2500000000000002,\n",
              " 1.57,\n",
              " 1.9000000000000001,\n",
              " 2.2300000000000004,\n",
              " 2.5500000000000003,\n",
              " 2.8600000000000003]"
            ]
          },
          "metadata": {
            "tags": []
          },
          "execution_count": 27
        }
      ]
    },
    {
      "cell_type": "code",
      "metadata": {
        "colab": {
          "base_uri": "https://localhost:8080/",
          "height": 327
        },
        "id": "MsId10fyOhlB",
        "outputId": "fa572dcd-60e3-495f-d7a0-5f154477266d"
      },
      "source": [
        "exp_data['Model_Prediction'] = exp_data.Displacement.apply(lambda x: model(x, .01, .1))\r\n",
        "exp_data\r\n",
        "\r\n",
        "fig = plt.figure()\r\n",
        "ax = fig.add_subplot(111, xlabel='Displacement', ylabel='Force', title='Force vs Displacement')\r\n",
        "\r\n",
        "plt.scatter(exp_data.Displacement, exp_data.Force, label='Real data')\r\n",
        "plt.plot(exp_data.Displacement, exp_data.Model_Prediction, label='Prediction', c='r')\r\n",
        "plt.legend(loc=0)\r\n",
        "plt.show()\r\n",
        "print(f'The distance between prediction and real data is {dist( exp_data.Force , exp_data.Model_Prediction )   }.')"
      ],
      "execution_count": null,
      "outputs": [
        {
          "output_type": "display_data",
          "data": {
            "image/png": "[encoded data removed]",
            "text/plain": [
              "<Figure size 576x288 with 1 Axes>"
            ]
          },
          "metadata": {
            "tags": [],
            "needs_background": "light"
          }
        },
        {
          "output_type": "stream",
          "text": [
            "The distance between prediction and real data is 0.6340000000000001.\n"
          ],
          "name": "stdout"
        }
      ]
    },
    {
      "cell_type": "code",
      "metadata": {
        "colab": {
          "base_uri": "https://localhost:8080/",
          "height": 391,
          "referenced_widgets": [
            "f9e55f9a634c4d55bb6b63d64f3c75ed",
            "4e04b3cb8ea34824993e015b7ad98485",
            "dc0dad4ae39c46759ec102f2e6ac7d89",
            "a7d2c014387842f8b999be13b68cf3c7",
            "7570447d16f24557a76390627657ec69",
            "8b76d92df2e64b7185bdf4df820fb0cd",
            "be6723e8fd734275a6589e27c82f38e2",
            "e63f29b66b3d48639888621dc67d9b0c",
            "b71a51762de74eb38dbc3736a92ed4fe",
            "300e9e09d1454856a714fc016503481c"
          ]
        },
        "id": "NwuC6Sn0OhlC",
        "outputId": "acc358d9-5e97-4bae-c447-cb0ed95f85e9"
      },
      "source": [
        "from ipywidgets import interact, fixed, FloatSlider\r\n",
        "\r\n",
        "# @interact\r\n",
        "def plot_both(w,b):\r\n",
        "  exp_data['Model_Prediction'] = exp_data.Displacement.apply(lambda x: model(x, w,b))\r\n",
        "  \r\n",
        "  fig = plt.figure()\r\n",
        "  ax = fig.add_subplot(111, xlabel='Displacement', ylabel='Force', title='Force vs Displacement')\r\n",
        "\r\n",
        "  plt.scatter(exp_data.Displacement, exp_data.Force, label='Real data')\r\n",
        "  plt.plot(exp_data.Displacement, exp_data.Model_Prediction, label='Prediction', c='r')\r\n",
        "  # plt.ylim(-.1,.7)\r\n",
        "  plt.legend(loc=0)\r\n",
        "  # plt.show()\r\n",
        "  plt.close(fig)\r\n",
        "  return fig\r\n",
        "\r\n",
        "interact(plot_both, w=FloatSlider(min=0.0, max=.05, step=.0001, value=0),\r\n",
        "         b=FloatSlider(min=-1, max=1.0, step=.0001, value=0))"
      ],
      "execution_count": null,
      "outputs": [
        {
          "output_type": "display_data",
          "data": {
            "application/vnd.jupyter.widget-view+json": {
              "model_id": "f9e55f9a634c4d55bb6b63d64f3c75ed",
              "version_minor": 0,
              "version_major": 2
            },
            "text/plain": [
              "interactive(children=(FloatSlider(value=0.0, description='w', max=0.05, step=0.0001), FloatSlider(value=0.0, d…"
            ]
          },
          "metadata": {
            "tags": []
          }
        },
        {
          "output_type": "execute_result",
          "data": {
            "text/plain": [
              "<function __main__.plot_both>"
            ]
          },
          "metadata": {
            "tags": []
          },
          "execution_count": 29
        }
      ]
    },
    {
      "cell_type": "code",
      "metadata": {
        "colab": {
          "base_uri": "https://localhost:8080/",
          "height": 500
        },
        "id": "NIjFDmRPOhlD",
        "outputId": "68b493ed-b7a3-4efc-9e8a-d06bc99972f1"
      },
      "source": [
        "%%time\r\n",
        "## Plot distance vs param\r\n",
        "dist_list = np.array([[dist( exp_data.Force , \r\n",
        "                   model(exp_data.Displacement , w,b) )  for w in np.arange(-.1,.1,.01)  ] for b in np.arange(-1,1,.01)])\r\n",
        "\r\n",
        "## The index for the optimal values are:\r\n",
        "opt_ind = np.unravel_index( np.argmin(dist_list ), dist_list.shape )\r\n",
        "print(f'The index for the optimal values are {opt_ind[::-1]}.\\n')\r\n",
        "\r\n",
        "## The optimal values are :\r\n",
        "opt_param = np.arange(-.1,.1,.01)[opt_ind[1]], np.arange(-1,1,.01)[opt_ind[0]]\r\n",
        "print(f'The optimal values are {opt_param}.\\n')\r\n",
        "\r\n",
        "# The min loss values is :\r\n",
        "print(f'The min loss values is {dist_list[opt_ind]:.4f}.\\n')\r\n",
        "\r\n",
        "\r\n",
        "fig = plt.figure(figsize=(15,5))\r\n",
        "ax = fig.add_subplot(121, xlabel='w', ylabel='b', title='Loss vs w and b')\r\n",
        "\r\n",
        "plt.imshow(dist_list, extent=[-.1,.1,-1,1], aspect=.10, origin='lower')\r\n",
        "plt.scatter(*opt_param, c='r')\r\n",
        "plt.colorbar()\r\n",
        "\r\n",
        "ax = fig.add_subplot(122, xlabel='Displacement', ylabel='Force', title='Force vs Displacement')\r\n",
        "plt.scatter(exp_data.Displacement, exp_data.Force, label='Real data')\r\n",
        "plt.plot(exp_data.Displacement, model(exp_data.Displacement , opt_param[0], opt_param[1]) , label='Prediction', c='r')\r\n",
        "plt.legend(loc=0)\r\n"
      ],
      "execution_count": null,
      "outputs": [
        {
          "output_type": "stream",
          "text": [
            "The index for the optimal values are (13, 66).\n",
            "\n",
            "The optimal values are (0.029999999999999943, -0.3399999999999994).\n",
            "\n",
            "The min loss values is 0.0240.\n",
            "\n",
            "CPU times: user 57.5 ms, sys: 1.01 ms, total: 58.5 ms\n",
            "Wall time: 57 ms\n"
          ],
          "name": "stdout"
        },
        {
          "output_type": "display_data",
          "data": {
            "image/png": "[encoded data removed]",
            "text/plain": [
              "<Figure size 1080x360 with 3 Axes>"
            ]
          },
          "metadata": {
            "tags": [],
            "needs_background": "light"
          }
        }
      ]
    },
    {
      "cell_type": "markdown",
      "metadata": {
        "id": "JznhhH_uBVnh"
      },
      "source": [
        "### Using sklearn"
      ]
    },
    {
      "cell_type": "code",
      "metadata": {
        "id": "bGVHl7LHBVnm"
      },
      "source": [
        "from sklearn.linear_model import LinearRegression"
      ],
      "execution_count": null,
      "outputs": []
    },
    {
      "cell_type": "code",
      "metadata": {
        "id": "3PkqzfqlBVn5",
        "colab": {
          "base_uri": "https://localhost:8080/",
          "height": 310
        },
        "outputId": "616188fa-cb2e-4dd6-98c3-77008a468ff5"
      },
      "source": [
        "'''\n",
        "We first train an estimator which  finds a good fit to the data.\n",
        "'''\n",
        "\n",
        "reg = LinearRegression()  ## Defines/Constructs the estimator\n",
        "reg.fit(exp_data.Displacement.values.reshape(-1,1), exp_data.Force)  ##Trains the estimator\n",
        "\n",
        "x = np.arange(0,5,.1).reshape(50,1)  \n",
        "\n",
        "### Now we plot the \n",
        "fig = plt.figure()\n",
        "ax = fig.add_subplot(111, xlabel='Displacement', ylabel='Force', title='Force vs Displacement')\n",
        "\n",
        "plt.scatter(exp_data.Displacement, exp_data.Force, label='Real data')\n",
        "ax.plot(exp_data.Displacement, reg.predict( exp_data.Displacement.values.reshape(-1,1) ) ,  \n",
        "        label='Linear Regression Fit' , c= 'r')\n",
        "plt.legend(loc=0)\n",
        "plt.show()\n"
      ],
      "execution_count": null,
      "outputs": [
        {
          "output_type": "display_data",
          "data": {
            "image/png": "[encoded data removed]",
            "text/plain": [
              "<Figure size 576x288 with 1 Axes>"
            ]
          },
          "metadata": {
            "tags": [],
            "needs_background": "light"
          }
        }
      ]
    },
    {
      "cell_type": "code",
      "metadata": {
        "id": "Uh_W3Yir1AlZ",
        "colab": {
          "base_uri": "https://localhost:8080/"
        },
        "outputId": "d2dee438-6567-4293-c54c-39853c0b37c7"
      },
      "source": [
        "print(f'The optimal w is {reg.coef_} and the optimal b is {reg.intercept_}.\\n')\r\n",
        "print('This is in reasonable agreement with the ones we got.')"
      ],
      "execution_count": null,
      "outputs": [
        {
          "output_type": "stream",
          "text": [
            "The optimal w is [0.03091545] and the optimal b is -0.3559427572645836.\n",
            "\n",
            "This is in reasonable agreement with the ones we got.\n"
          ],
          "name": "stdout"
        }
      ]
    },
    {
      "cell_type": "code",
      "metadata": {
        "id": "4Zv5gLnWHnkq"
      },
      "source": [
        ""
      ],
      "execution_count": null,
      "outputs": []
    },
    {
      "cell_type": "markdown",
      "metadata": {
        "id": "txfdCNUBcZ00"
      },
      "source": [
        "#Exercise \r\n",
        "\r\n",
        "\r\n",
        "### Balck Body Radiation\r\n",
        "Do the same for the black body radiation. "
      ]
    },
    {
      "cell_type": "code",
      "metadata": {
        "colab": {
          "base_uri": "https://localhost:8080/",
          "height": 310
        },
        "id": "zBCiN0ivcYsD",
        "outputId": "77c9ccd9-70ca-4ec9-b5f5-ad6d564ef221"
      },
      "source": [
        "#####BBR###### \r\n",
        "## This data is collected from galileo.phys.virginia.edu/classes/252\r\n",
        "url = \"https://github.com/sraeisi/MachineLearning_Physics/blob/master/Data/bbr.xls?raw=true\"\r\n",
        "data_bbr = pd.read_excel(url)\r\n",
        "\r\n",
        "n_s_rate=1\r\n",
        "\r\n",
        "x_label = 'Wave length '\r\n",
        "y_label = 'Radiation'\r\n",
        "plt_title = 'Black Body Radiation'\r\n",
        "fig = plt.figure()\r\n",
        "ax = fig.add_subplot(111, xlabel=x_label, ylabel=y_label, title=plt_title)\r\n",
        "\r\n",
        "ax.scatter(data_bbr[0][::n_s_rate], 10**20*data_bbr['T'][::n_s_rate])\r\n",
        "ax.scatter(data_bbr[0][::n_s_rate], 10**20*data_bbr['T/2'][::n_s_rate])\r\n",
        "plt.show()"
      ],
      "execution_count": 4,
      "outputs": [
        {
          "output_type": "display_data",
          "data": {
            "image/png": "[encoded data removed]",
            "text/plain": [
              "<Figure size 432x288 with 1 Axes>"
            ]
          },
          "metadata": {
            "tags": [],
            "needs_background": "light"
          }
        }
      ]
    },
    {
      "cell_type": "code",
      "metadata": {
        "id": "3QvS9eJh-PTg",
        "outputId": "08ededf5-ccf3-4712-a4d4-c9202e857ea0",
        "colab": {
          "base_uri": "https://localhost:8080/",
          "height": 111
        }
      },
      "source": [
        "data_bbr.head(2)"
      ],
      "execution_count": 5,
      "outputs": [
        {
          "output_type": "execute_result",
          "data": {
            "text/html": [
              "<div>\n",
              "<style scoped>\n",
              "    .dataframe tbody tr th:only-of-type {\n",
              "        vertical-align: middle;\n",
              "    }\n",
              "\n",
              "    .dataframe tbody tr th {\n",
              "        vertical-align: top;\n",
              "    }\n",
              "\n",
              "    .dataframe thead th {\n",
              "        text-align: right;\n",
              "    }\n",
              "</style>\n",
              "<table border=\"1\" class=\"dataframe\">\n",
              "  <thead>\n",
              "    <tr style=\"text-align: right;\">\n",
              "      <th></th>\n",
              "      <th>0</th>\n",
              "      <th>T</th>\n",
              "      <th>0.1</th>\n",
              "      <th>T/2</th>\n",
              "      <th>0.2</th>\n",
              "    </tr>\n",
              "  </thead>\n",
              "  <tbody>\n",
              "    <tr>\n",
              "      <th>0</th>\n",
              "      <td>88182000000</td>\n",
              "      <td>2.978514e-23</td>\n",
              "      <td>2.997673e-23</td>\n",
              "      <td>1.478758e-23</td>\n",
              "      <td>1.498837e-23</td>\n",
              "    </tr>\n",
              "    <tr>\n",
              "      <th>1</th>\n",
              "      <td>176364000000</td>\n",
              "      <td>1.183007e-22</td>\n",
              "      <td>1.199069e-22</td>\n",
              "      <td>5.831636e-23</td>\n",
              "      <td>5.995346e-23</td>\n",
              "    </tr>\n",
              "  </tbody>\n",
              "</table>\n",
              "</div>"
            ],
            "text/plain": [
              "              0             T           0.1           T/2           0.2\n",
              "0   88182000000  2.978514e-23  2.997673e-23  1.478758e-23  1.498837e-23\n",
              "1  176364000000  1.183007e-22  1.199069e-22  5.831636e-23  5.995346e-23"
            ]
          },
          "metadata": {
            "tags": []
          },
          "execution_count": 5
        }
      ]
    },
    {
      "cell_type": "code",
      "metadata": {
        "id": "zPyH7Wy_cw6f"
      },
      "source": [
        "'''\r\n",
        "Exercise:\r\n",
        "Find a fit and plot them along side the data. \r\n",
        "\r\n",
        "- Use X and Y defined here. \r\n",
        "- Build a model\r\n",
        "- Plot your model with the data\r\n",
        "\r\n",
        "Can you use the simple model we had before?\r\n",
        "Is it easy to guess the parameters of the model?\r\n",
        "'''"
      ],
      "execution_count": 19,
      "outputs": []
    },
    {
      "cell_type": "code",
      "metadata": {
        "id": "zFNBv3a26zhQ"
      },
      "source": [
        "X = data_bbr[0].values.reshape(-1,1)\r\n",
        "Y = 10**17*data_bbr['T']"
      ],
      "execution_count": 20,
      "outputs": []
    },
    {
      "cell_type": "code",
      "metadata": {
        "id": "z1kK6MDt6Vh6",
        "outputId": "046d9411-3dfd-4509-e739-208c416d7bbf",
        "colab": {
          "base_uri": "https://localhost:8080/"
        }
      },
      "source": [
        "### Let's try a simple model to see how this works:\r\n",
        "from sklearn.linear_model import SGDRegressor\r\n",
        "sgd_rg = SGDRegressor( loss='squared_loss'  )\r\n",
        "sgd_rg.fit(X,Y)\r\n",
        "sgd_rg.score(X,Y)"
      ],
      "execution_count": 21,
      "outputs": [
        {
          "output_type": "execute_result",
          "data": {
            "text/plain": [
              "-1.3734728557935933e+76"
            ]
          },
          "metadata": {
            "tags": []
          },
          "execution_count": 21
        }
      ]
    },
    {
      "cell_type": "code",
      "metadata": {
        "id": "0ANdmtT6-uQG",
        "outputId": "287aaf79-b6b8-408a-a0d1-6507ed033097",
        "colab": {
          "base_uri": "https://localhost:8080/"
        }
      },
      "source": [
        "### Calcualte the distance between the predicted Y and the actual Y, how good is it?\r\n",
        "Y_pred = sgd_rg.predict(X)\r\n",
        "from sklearn.metrics import mean_squared_error\r\n",
        "print(f'The MSE is {mean_squared_error(Y, Y_pred)}')"
      ],
      "execution_count": 22,
      "outputs": [
        {
          "output_type": "stream",
          "text": [
            "The MSE is 7.576863105576173e+71\n"
          ],
          "name": "stdout"
        }
      ]
    },
    {
      "cell_type": "code",
      "metadata": {
        "id": "M-RX4guX-tsq",
        "outputId": "4dabc3a3-1022-455a-99e3-8673e220cb60",
        "colab": {
          "base_uri": "https://localhost:8080/",
          "height": 320
        }
      },
      "source": [
        "plt.plot(X,Y)\r\n",
        "plt.plot(X,Y_pred)\r\n",
        "## Not a good fit, how can we improve this?"
      ],
      "execution_count": 17,
      "outputs": [
        {
          "output_type": "execute_result",
          "data": {
            "text/plain": [
              "[<matplotlib.lines.Line2D at 0x7f29fb6db2b0>]"
            ]
          },
          "metadata": {
            "tags": []
          },
          "execution_count": 17
        },
        {
          "output_type": "display_data",
          "data": {
            "image/png": "[encoded data removed]",
            "text/plain": [
              "<Figure size 432x288 with 1 Axes>"
            ]
          },
          "metadata": {
            "tags": [],
            "needs_background": "light"
          }
        }
      ]
    },
    {
      "cell_type": "markdown",
      "metadata": {
        "id": "Oy_T6ZKWdn2L"
      },
      "source": [
        "## Multi-feature data\r\n",
        "\r\n",
        "Do the same for the following data."
      ]
    },
    {
      "cell_type": "code",
      "metadata": {
        "colab": {
          "base_uri": "https://localhost:8080/",
          "height": 253
        },
        "id": "xqGki_e5drXV",
        "outputId": "3105a7cb-ea96-4b5a-d804-0aa3eee3172f"
      },
      "source": [
        "'''\r\n",
        "We need to first import the data. I took the data from the following kaggle dataset. \r\n",
        "\r\n",
        "https://www.kaggle.com/burakhmmtgl/energy-molecule\r\n",
        "\r\n",
        "These are the ground state energies of some molecules based on their different \r\n",
        "chemical bounds. \r\n",
        "'''\r\n",
        "import io, requests\r\n",
        "url = 'https://www.dropbox.com/s/das9t6vwp7t4b7f/roboBohr.csv.zip?dl=1'\r\n",
        "s=requests.get(url, stream=True).content\r\n",
        "data=pd.read_csv(io.BytesIO(s) , compression='zip' , index_col=0)\r\n",
        " \r\n",
        "'''\r\n",
        "Alternatively, you can download the file into your computer and run the following code. \r\n",
        "You need to uncomment it first. \r\n",
        "'''    \r\n",
        "# data = pd.read_csv('roboBohr.csv.zip', compression='zip', index_col=0)\r\n",
        "\r\n",
        "data.head()"
      ],
      "execution_count": null,
      "outputs": [
        {
          "output_type": "execute_result",
          "data": {
            "text/html": [
              "<div>\n",
              "<style scoped>\n",
              "    .dataframe tbody tr th:only-of-type {\n",
              "        vertical-align: middle;\n",
              "    }\n",
              "\n",
              "    .dataframe tbody tr th {\n",
              "        vertical-align: top;\n",
              "    }\n",
              "\n",
              "    .dataframe thead th {\n",
              "        text-align: right;\n",
              "    }\n",
              "</style>\n",
              "<table border=\"1\" class=\"dataframe\">\n",
              "  <thead>\n",
              "    <tr style=\"text-align: right;\">\n",
              "      <th></th>\n",
              "      <th>0</th>\n",
              "      <th>1</th>\n",
              "      <th>2</th>\n",
              "      <th>3</th>\n",
              "      <th>4</th>\n",
              "      <th>5</th>\n",
              "      <th>6</th>\n",
              "      <th>7</th>\n",
              "      <th>8</th>\n",
              "      <th>9</th>\n",
              "      <th>10</th>\n",
              "      <th>11</th>\n",
              "      <th>12</th>\n",
              "      <th>13</th>\n",
              "      <th>14</th>\n",
              "      <th>15</th>\n",
              "      <th>16</th>\n",
              "      <th>17</th>\n",
              "      <th>18</th>\n",
              "      <th>19</th>\n",
              "      <th>20</th>\n",
              "      <th>21</th>\n",
              "      <th>22</th>\n",
              "      <th>23</th>\n",
              "      <th>24</th>\n",
              "      <th>25</th>\n",
              "      <th>26</th>\n",
              "      <th>27</th>\n",
              "      <th>28</th>\n",
              "      <th>29</th>\n",
              "      <th>30</th>\n",
              "      <th>31</th>\n",
              "      <th>32</th>\n",
              "      <th>33</th>\n",
              "      <th>34</th>\n",
              "      <th>35</th>\n",
              "      <th>36</th>\n",
              "      <th>37</th>\n",
              "      <th>38</th>\n",
              "      <th>39</th>\n",
              "      <th>...</th>\n",
              "      <th>1237</th>\n",
              "      <th>1238</th>\n",
              "      <th>1239</th>\n",
              "      <th>1240</th>\n",
              "      <th>1241</th>\n",
              "      <th>1242</th>\n",
              "      <th>1243</th>\n",
              "      <th>1244</th>\n",
              "      <th>1245</th>\n",
              "      <th>1246</th>\n",
              "      <th>1247</th>\n",
              "      <th>1248</th>\n",
              "      <th>1249</th>\n",
              "      <th>1250</th>\n",
              "      <th>1251</th>\n",
              "      <th>1252</th>\n",
              "      <th>1253</th>\n",
              "      <th>1254</th>\n",
              "      <th>1255</th>\n",
              "      <th>1256</th>\n",
              "      <th>1257</th>\n",
              "      <th>1258</th>\n",
              "      <th>1259</th>\n",
              "      <th>1260</th>\n",
              "      <th>1261</th>\n",
              "      <th>1262</th>\n",
              "      <th>1263</th>\n",
              "      <th>1264</th>\n",
              "      <th>1265</th>\n",
              "      <th>1266</th>\n",
              "      <th>1267</th>\n",
              "      <th>1268</th>\n",
              "      <th>1269</th>\n",
              "      <th>1270</th>\n",
              "      <th>1271</th>\n",
              "      <th>1272</th>\n",
              "      <th>1273</th>\n",
              "      <th>1274</th>\n",
              "      <th>pubchem_id</th>\n",
              "      <th>Eat</th>\n",
              "    </tr>\n",
              "  </thead>\n",
              "  <tbody>\n",
              "    <tr>\n",
              "      <th>0</th>\n",
              "      <td>73.516695</td>\n",
              "      <td>17.817765</td>\n",
              "      <td>12.469551</td>\n",
              "      <td>12.458130</td>\n",
              "      <td>12.454607</td>\n",
              "      <td>12.447345</td>\n",
              "      <td>12.433065</td>\n",
              "      <td>12.426926</td>\n",
              "      <td>12.387474</td>\n",
              "      <td>12.365984</td>\n",
              "      <td>12.342823</td>\n",
              "      <td>12.335925</td>\n",
              "      <td>12.328055</td>\n",
              "      <td>12.284265</td>\n",
              "      <td>12.269844</td>\n",
              "      <td>12.247357</td>\n",
              "      <td>10.557967</td>\n",
              "      <td>10.473721</td>\n",
              "      <td>9.225262</td>\n",
              "      <td>8.448526</td>\n",
              "      <td>7.611145</td>\n",
              "      <td>7.610874</td>\n",
              "      <td>7.580510</td>\n",
              "      <td>7.579386</td>\n",
              "      <td>7.576929</td>\n",
              "      <td>7.536001</td>\n",
              "      <td>7.517317</td>\n",
              "      <td>7.462578</td>\n",
              "      <td>7.459865</td>\n",
              "      <td>7.456214</td>\n",
              "      <td>7.447581</td>\n",
              "      <td>7.443458</td>\n",
              "      <td>7.423496</td>\n",
              "      <td>7.345785</td>\n",
              "      <td>7.323741</td>\n",
              "      <td>7.247088</td>\n",
              "      <td>7.230886</td>\n",
              "      <td>6.662523</td>\n",
              "      <td>6.286251</td>\n",
              "      <td>6.134338</td>\n",
              "      <td>...</td>\n",
              "      <td>0.0</td>\n",
              "      <td>0.0</td>\n",
              "      <td>0.5</td>\n",
              "      <td>0.0</td>\n",
              "      <td>0.0</td>\n",
              "      <td>0.0</td>\n",
              "      <td>0.0</td>\n",
              "      <td>0.0</td>\n",
              "      <td>0.0</td>\n",
              "      <td>0.0</td>\n",
              "      <td>0.5</td>\n",
              "      <td>0.0</td>\n",
              "      <td>0.0</td>\n",
              "      <td>0.0</td>\n",
              "      <td>0.0</td>\n",
              "      <td>0.0</td>\n",
              "      <td>0.0</td>\n",
              "      <td>0.5</td>\n",
              "      <td>0.0</td>\n",
              "      <td>0.0</td>\n",
              "      <td>0.0</td>\n",
              "      <td>0.0</td>\n",
              "      <td>0.0</td>\n",
              "      <td>0.5</td>\n",
              "      <td>0.0</td>\n",
              "      <td>0.0</td>\n",
              "      <td>0.0</td>\n",
              "      <td>0.0</td>\n",
              "      <td>0.5</td>\n",
              "      <td>0.0</td>\n",
              "      <td>0.0</td>\n",
              "      <td>0.0</td>\n",
              "      <td>0.5</td>\n",
              "      <td>0.0</td>\n",
              "      <td>0.0</td>\n",
              "      <td>0.0</td>\n",
              "      <td>0.0</td>\n",
              "      <td>0.0</td>\n",
              "      <td>25004</td>\n",
              "      <td>-19.013763</td>\n",
              "    </tr>\n",
              "    <tr>\n",
              "      <th>1</th>\n",
              "      <td>73.516695</td>\n",
              "      <td>20.649126</td>\n",
              "      <td>18.527789</td>\n",
              "      <td>17.891535</td>\n",
              "      <td>17.887995</td>\n",
              "      <td>17.871731</td>\n",
              "      <td>17.852586</td>\n",
              "      <td>17.729842</td>\n",
              "      <td>15.864270</td>\n",
              "      <td>15.227643</td>\n",
              "      <td>15.202985</td>\n",
              "      <td>14.800045</td>\n",
              "      <td>12.855629</td>\n",
              "      <td>12.728858</td>\n",
              "      <td>12.618058</td>\n",
              "      <td>12.589962</td>\n",
              "      <td>12.557323</td>\n",
              "      <td>12.074893</td>\n",
              "      <td>10.607138</td>\n",
              "      <td>10.572061</td>\n",
              "      <td>10.464293</td>\n",
              "      <td>9.816674</td>\n",
              "      <td>9.456914</td>\n",
              "      <td>9.455816</td>\n",
              "      <td>8.865704</td>\n",
              "      <td>8.104048</td>\n",
              "      <td>8.006855</td>\n",
              "      <td>7.968817</td>\n",
              "      <td>7.946644</td>\n",
              "      <td>7.932943</td>\n",
              "      <td>7.922656</td>\n",
              "      <td>7.888724</td>\n",
              "      <td>7.885692</td>\n",
              "      <td>7.783220</td>\n",
              "      <td>7.637477</td>\n",
              "      <td>7.636586</td>\n",
              "      <td>7.631457</td>\n",
              "      <td>7.336591</td>\n",
              "      <td>7.127698</td>\n",
              "      <td>6.974135</td>\n",
              "      <td>...</td>\n",
              "      <td>0.0</td>\n",
              "      <td>0.0</td>\n",
              "      <td>0.0</td>\n",
              "      <td>0.0</td>\n",
              "      <td>0.0</td>\n",
              "      <td>0.0</td>\n",
              "      <td>0.0</td>\n",
              "      <td>0.0</td>\n",
              "      <td>0.0</td>\n",
              "      <td>0.0</td>\n",
              "      <td>0.0</td>\n",
              "      <td>0.0</td>\n",
              "      <td>0.0</td>\n",
              "      <td>0.0</td>\n",
              "      <td>0.0</td>\n",
              "      <td>0.0</td>\n",
              "      <td>0.0</td>\n",
              "      <td>0.0</td>\n",
              "      <td>0.0</td>\n",
              "      <td>0.0</td>\n",
              "      <td>0.0</td>\n",
              "      <td>0.0</td>\n",
              "      <td>0.0</td>\n",
              "      <td>0.0</td>\n",
              "      <td>0.0</td>\n",
              "      <td>0.0</td>\n",
              "      <td>0.0</td>\n",
              "      <td>0.0</td>\n",
              "      <td>0.0</td>\n",
              "      <td>0.0</td>\n",
              "      <td>0.0</td>\n",
              "      <td>0.0</td>\n",
              "      <td>0.0</td>\n",
              "      <td>0.0</td>\n",
              "      <td>0.0</td>\n",
              "      <td>0.0</td>\n",
              "      <td>0.0</td>\n",
              "      <td>0.0</td>\n",
              "      <td>25005</td>\n",
              "      <td>-10.161019</td>\n",
              "    </tr>\n",
              "    <tr>\n",
              "      <th>2</th>\n",
              "      <td>73.516695</td>\n",
              "      <td>17.830377</td>\n",
              "      <td>12.512263</td>\n",
              "      <td>12.404775</td>\n",
              "      <td>12.394493</td>\n",
              "      <td>12.391564</td>\n",
              "      <td>12.324461</td>\n",
              "      <td>12.238106</td>\n",
              "      <td>10.423249</td>\n",
              "      <td>8.698826</td>\n",
              "      <td>7.607776</td>\n",
              "      <td>7.550253</td>\n",
              "      <td>7.446675</td>\n",
              "      <td>7.398848</td>\n",
              "      <td>7.381532</td>\n",
              "      <td>7.355045</td>\n",
              "      <td>7.321944</td>\n",
              "      <td>6.625986</td>\n",
              "      <td>6.116315</td>\n",
              "      <td>6.106397</td>\n",
              "      <td>6.098066</td>\n",
              "      <td>5.989868</td>\n",
              "      <td>5.731750</td>\n",
              "      <td>5.700963</td>\n",
              "      <td>5.371527</td>\n",
              "      <td>5.008911</td>\n",
              "      <td>4.894453</td>\n",
              "      <td>4.826545</td>\n",
              "      <td>4.352232</td>\n",
              "      <td>4.270598</td>\n",
              "      <td>2.902330</td>\n",
              "      <td>2.902220</td>\n",
              "      <td>2.901834</td>\n",
              "      <td>2.901089</td>\n",
              "      <td>2.900168</td>\n",
              "      <td>2.900151</td>\n",
              "      <td>2.899983</td>\n",
              "      <td>2.898772</td>\n",
              "      <td>2.898551</td>\n",
              "      <td>2.897620</td>\n",
              "      <td>...</td>\n",
              "      <td>0.0</td>\n",
              "      <td>0.0</td>\n",
              "      <td>0.0</td>\n",
              "      <td>0.0</td>\n",
              "      <td>0.0</td>\n",
              "      <td>0.0</td>\n",
              "      <td>0.0</td>\n",
              "      <td>0.0</td>\n",
              "      <td>0.0</td>\n",
              "      <td>0.0</td>\n",
              "      <td>0.0</td>\n",
              "      <td>0.0</td>\n",
              "      <td>0.0</td>\n",
              "      <td>0.0</td>\n",
              "      <td>0.0</td>\n",
              "      <td>0.0</td>\n",
              "      <td>0.0</td>\n",
              "      <td>0.0</td>\n",
              "      <td>0.0</td>\n",
              "      <td>0.0</td>\n",
              "      <td>0.0</td>\n",
              "      <td>0.0</td>\n",
              "      <td>0.0</td>\n",
              "      <td>0.0</td>\n",
              "      <td>0.0</td>\n",
              "      <td>0.0</td>\n",
              "      <td>0.0</td>\n",
              "      <td>0.0</td>\n",
              "      <td>0.0</td>\n",
              "      <td>0.0</td>\n",
              "      <td>0.0</td>\n",
              "      <td>0.0</td>\n",
              "      <td>0.0</td>\n",
              "      <td>0.0</td>\n",
              "      <td>0.0</td>\n",
              "      <td>0.0</td>\n",
              "      <td>0.0</td>\n",
              "      <td>0.0</td>\n",
              "      <td>25006</td>\n",
              "      <td>-9.376619</td>\n",
              "    </tr>\n",
              "    <tr>\n",
              "      <th>3</th>\n",
              "      <td>73.516695</td>\n",
              "      <td>17.875810</td>\n",
              "      <td>17.871259</td>\n",
              "      <td>17.862402</td>\n",
              "      <td>17.850920</td>\n",
              "      <td>17.850440</td>\n",
              "      <td>12.558105</td>\n",
              "      <td>12.557645</td>\n",
              "      <td>12.517583</td>\n",
              "      <td>12.444141</td>\n",
              "      <td>12.420665</td>\n",
              "      <td>12.410312</td>\n",
              "      <td>12.346845</td>\n",
              "      <td>12.175480</td>\n",
              "      <td>12.098758</td>\n",
              "      <td>10.612802</td>\n",
              "      <td>10.610273</td>\n",
              "      <td>10.606738</td>\n",
              "      <td>10.606702</td>\n",
              "      <td>10.433290</td>\n",
              "      <td>8.694957</td>\n",
              "      <td>8.421582</td>\n",
              "      <td>8.103569</td>\n",
              "      <td>8.103345</td>\n",
              "      <td>7.595619</td>\n",
              "      <td>7.566897</td>\n",
              "      <td>7.555411</td>\n",
              "      <td>7.413109</td>\n",
              "      <td>7.403199</td>\n",
              "      <td>7.185256</td>\n",
              "      <td>6.915425</td>\n",
              "      <td>6.198245</td>\n",
              "      <td>6.191266</td>\n",
              "      <td>6.181797</td>\n",
              "      <td>6.152544</td>\n",
              "      <td>5.252689</td>\n",
              "      <td>5.244354</td>\n",
              "      <td>5.176740</td>\n",
              "      <td>5.176314</td>\n",
              "      <td>5.175577</td>\n",
              "      <td>...</td>\n",
              "      <td>0.0</td>\n",
              "      <td>0.0</td>\n",
              "      <td>0.0</td>\n",
              "      <td>0.0</td>\n",
              "      <td>0.0</td>\n",
              "      <td>0.0</td>\n",
              "      <td>0.0</td>\n",
              "      <td>0.0</td>\n",
              "      <td>0.0</td>\n",
              "      <td>0.0</td>\n",
              "      <td>0.0</td>\n",
              "      <td>0.0</td>\n",
              "      <td>0.0</td>\n",
              "      <td>0.0</td>\n",
              "      <td>0.0</td>\n",
              "      <td>0.0</td>\n",
              "      <td>0.0</td>\n",
              "      <td>0.0</td>\n",
              "      <td>0.0</td>\n",
              "      <td>0.0</td>\n",
              "      <td>0.0</td>\n",
              "      <td>0.0</td>\n",
              "      <td>0.0</td>\n",
              "      <td>0.0</td>\n",
              "      <td>0.0</td>\n",
              "      <td>0.0</td>\n",
              "      <td>0.0</td>\n",
              "      <td>0.0</td>\n",
              "      <td>0.0</td>\n",
              "      <td>0.0</td>\n",
              "      <td>0.0</td>\n",
              "      <td>0.0</td>\n",
              "      <td>0.0</td>\n",
              "      <td>0.0</td>\n",
              "      <td>0.0</td>\n",
              "      <td>0.0</td>\n",
              "      <td>0.0</td>\n",
              "      <td>0.0</td>\n",
              "      <td>25009</td>\n",
              "      <td>-13.776438</td>\n",
              "    </tr>\n",
              "    <tr>\n",
              "      <th>4</th>\n",
              "      <td>73.516695</td>\n",
              "      <td>17.883818</td>\n",
              "      <td>17.868256</td>\n",
              "      <td>17.864221</td>\n",
              "      <td>17.818540</td>\n",
              "      <td>12.508657</td>\n",
              "      <td>12.490519</td>\n",
              "      <td>12.450098</td>\n",
              "      <td>10.597068</td>\n",
              "      <td>10.595914</td>\n",
              "      <td>10.485270</td>\n",
              "      <td>8.595823</td>\n",
              "      <td>8.103880</td>\n",
              "      <td>8.103567</td>\n",
              "      <td>7.975189</td>\n",
              "      <td>7.546413</td>\n",
              "      <td>7.503300</td>\n",
              "      <td>6.803380</td>\n",
              "      <td>6.738768</td>\n",
              "      <td>5.169492</td>\n",
              "      <td>5.161869</td>\n",
              "      <td>5.145972</td>\n",
              "      <td>4.924911</td>\n",
              "      <td>4.899245</td>\n",
              "      <td>4.534996</td>\n",
              "      <td>4.486310</td>\n",
              "      <td>3.897466</td>\n",
              "      <td>3.081523</td>\n",
              "      <td>2.957823</td>\n",
              "      <td>2.903069</td>\n",
              "      <td>2.902178</td>\n",
              "      <td>2.900610</td>\n",
              "      <td>2.900542</td>\n",
              "      <td>2.900306</td>\n",
              "      <td>2.899368</td>\n",
              "      <td>2.899113</td>\n",
              "      <td>2.897739</td>\n",
              "      <td>2.896793</td>\n",
              "      <td>2.896063</td>\n",
              "      <td>2.895051</td>\n",
              "      <td>...</td>\n",
              "      <td>0.0</td>\n",
              "      <td>0.0</td>\n",
              "      <td>0.0</td>\n",
              "      <td>0.0</td>\n",
              "      <td>0.0</td>\n",
              "      <td>0.0</td>\n",
              "      <td>0.0</td>\n",
              "      <td>0.0</td>\n",
              "      <td>0.0</td>\n",
              "      <td>0.0</td>\n",
              "      <td>0.0</td>\n",
              "      <td>0.0</td>\n",
              "      <td>0.0</td>\n",
              "      <td>0.0</td>\n",
              "      <td>0.0</td>\n",
              "      <td>0.0</td>\n",
              "      <td>0.0</td>\n",
              "      <td>0.0</td>\n",
              "      <td>0.0</td>\n",
              "      <td>0.0</td>\n",
              "      <td>0.0</td>\n",
              "      <td>0.0</td>\n",
              "      <td>0.0</td>\n",
              "      <td>0.0</td>\n",
              "      <td>0.0</td>\n",
              "      <td>0.0</td>\n",
              "      <td>0.0</td>\n",
              "      <td>0.0</td>\n",
              "      <td>0.0</td>\n",
              "      <td>0.0</td>\n",
              "      <td>0.0</td>\n",
              "      <td>0.0</td>\n",
              "      <td>0.0</td>\n",
              "      <td>0.0</td>\n",
              "      <td>0.0</td>\n",
              "      <td>0.0</td>\n",
              "      <td>0.0</td>\n",
              "      <td>0.0</td>\n",
              "      <td>25011</td>\n",
              "      <td>-8.537140</td>\n",
              "    </tr>\n",
              "  </tbody>\n",
              "</table>\n",
              "<p>5 rows × 1277 columns</p>\n",
              "</div>"
            ],
            "text/plain": [
              "           0          1          2  ...  1274  pubchem_id        Eat\n",
              "0  73.516695  17.817765  12.469551  ...   0.0       25004 -19.013763\n",
              "1  73.516695  20.649126  18.527789  ...   0.0       25005 -10.161019\n",
              "2  73.516695  17.830377  12.512263  ...   0.0       25006  -9.376619\n",
              "3  73.516695  17.875810  17.871259  ...   0.0       25009 -13.776438\n",
              "4  73.516695  17.883818  17.868256  ...   0.0       25011  -8.537140\n",
              "\n",
              "[5 rows x 1277 columns]"
            ]
          },
          "metadata": {
            "tags": []
          },
          "execution_count": 72
        }
      ]
    },
    {
      "cell_type": "markdown",
      "metadata": {
        "id": "07-CAWbBeoly"
      },
      "source": [
        "Exercise \r\n",
        "\r\n",
        "Do the same, find a model and find a way to compare your results against actual ground state energies. \r\n"
      ]
    },
    {
      "cell_type": "code",
      "metadata": {
        "id": "5CoCtG2yd6Ix"
      },
      "source": [
        "'''\r\n",
        "Do the same, find a model and find a way to compare your results against actual ground state energies. \r\n",
        "'''\r\n",
        "\r\n",
        "\r\n"
      ],
      "execution_count": null,
      "outputs": []
    },
    {
      "cell_type": "code",
      "metadata": {
        "id": "losfTs6BeieT"
      },
      "source": [
        ""
      ],
      "execution_count": null,
      "outputs": []
    }
  ]
}